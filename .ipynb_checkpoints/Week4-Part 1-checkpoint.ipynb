{
 "cells": [
  {
   "cell_type": "markdown",
   "metadata": {},
   "source": [
    "## Introduction\n",
    "\n",
    "### Background\n",
    "Google Analytics is a powerful tool where people can get many useful information about their potential customers, when they begin to visit until they leave website. People usualy using Google Analytics to view information at specific time to find more reasons to explain about how the revenue increase or decrease. The revenue increase because more people come to website, but how about the features of these people, what things we need to do in the future is sometimes not clearly. Therefore, it is advantageous for company to clustering customers to have more approriate sale – marketing campaigns and predict the users come to website to predict the revenue.\n",
    "\n",
    "### Problem\n",
    "Data needed to analysis might include the date, page user visit, type of user (new user or return user), user’s time on page, how many sessions, where user come from (google search or google adwords,...), which device they use, longitude and lattitude of user and how many goals. This project aims to clustering user and predict how many users will go to website in the future.\n",
    "\n",
    "### Interest \n",
    "The company have set up Google Analytics on their website would be concern and interested in examines Google Analytics webiste data, how data can be turned into information, and how that information relates to a business or organization in the future. The information is very useful and also more authentic, more clearly than just guess.\n"
   ]
  },
  {
   "cell_type": "code",
   "execution_count": null,
   "metadata": {},
   "outputs": [],
   "source": []
  }
 ],
 "metadata": {
  "kernelspec": {
   "display_name": "Python 3",
   "language": "python",
   "name": "python3"
  },
  "language_info": {
   "codemirror_mode": {
    "name": "ipython",
    "version": 3
   },
   "file_extension": ".py",
   "mimetype": "text/x-python",
   "name": "python",
   "nbconvert_exporter": "python",
   "pygments_lexer": "ipython3",
   "version": "3.6.8"
  }
 },
 "nbformat": 4,
 "nbformat_minor": 2
}
